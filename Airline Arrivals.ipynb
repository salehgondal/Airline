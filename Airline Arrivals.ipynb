{
 "cells": [
  {
   "cell_type": "code",
   "execution_count": 1,
   "metadata": {},
   "outputs": [],
   "source": [
    "#http://stat-computing.org/dataexpo/2009/the-data.html\n",
    "\n",
    "import numpy as np\n",
    "import pandas as pd\n",
    "import seaborn as sns\n",
    "from matplotlib import pyplot as plt\n",
    "%matplotlib inline\n",
    "from datetime import timedelta,date\n",
    "import datetime"
   ]
  },
  {
   "cell_type": "code",
   "execution_count": 66,
   "metadata": {},
   "outputs": [
    {
     "name": "stderr",
     "output_type": "stream",
     "text": [
      "C:\\Users\\saleh\\AppData\\Local\\Continuum\\anaconda3\\lib\\site-packages\\IPython\\core\\interactiveshell.py:3057: DtypeWarning: Columns (21) have mixed types. Specify dtype option on import or set low_memory=False.\n",
      "  interactivity=interactivity, compiler=compiler, result=result)\n"
     ]
    }
   ],
   "source": [
    "# Data for the month of August in 2019 for all flights\n",
    "data = pd.read_csv('C:/Users/saleh/Desktop/Airline/241868859_T_ONTIME_REPORTING.csv')"
   ]
  },
  {
   "cell_type": "code",
   "execution_count": 67,
   "metadata": {},
   "outputs": [
    {
     "data": {
      "text/html": [
       "<div>\n",
       "<style scoped>\n",
       "    .dataframe tbody tr th:only-of-type {\n",
       "        vertical-align: middle;\n",
       "    }\n",
       "\n",
       "    .dataframe tbody tr th {\n",
       "        vertical-align: top;\n",
       "    }\n",
       "\n",
       "    .dataframe thead th {\n",
       "        text-align: right;\n",
       "    }\n",
       "</style>\n",
       "<table border=\"1\" class=\"dataframe\">\n",
       "  <thead>\n",
       "    <tr style=\"text-align: right;\">\n",
       "      <th></th>\n",
       "      <th>YEAR</th>\n",
       "      <th>MONTH</th>\n",
       "      <th>DAY_OF_MONTH</th>\n",
       "      <th>OP_UNIQUE_CARRIER</th>\n",
       "      <th>TAIL_NUM</th>\n",
       "      <th>OP_CARRIER_FL_NUM</th>\n",
       "      <th>ORIGIN</th>\n",
       "      <th>ORIGIN_CITY_NAME</th>\n",
       "      <th>ORIGIN_STATE_NM</th>\n",
       "      <th>DEST</th>\n",
       "      <th>...</th>\n",
       "      <th>DIVERTED</th>\n",
       "      <th>AIR_TIME</th>\n",
       "      <th>FLIGHTS</th>\n",
       "      <th>DISTANCE</th>\n",
       "      <th>CARRIER_DELAY</th>\n",
       "      <th>WEATHER_DELAY</th>\n",
       "      <th>NAS_DELAY</th>\n",
       "      <th>SECURITY_DELAY</th>\n",
       "      <th>LATE_AIRCRAFT_DELAY</th>\n",
       "      <th>Unnamed: 31</th>\n",
       "    </tr>\n",
       "  </thead>\n",
       "  <tbody>\n",
       "    <tr>\n",
       "      <th>19905</th>\n",
       "      <td>2019</td>\n",
       "      <td>8</td>\n",
       "      <td>26</td>\n",
       "      <td>DL</td>\n",
       "      <td>N3732J</td>\n",
       "      <td>3014</td>\n",
       "      <td>FAI</td>\n",
       "      <td>Fairbanks, AK</td>\n",
       "      <td>Alaska</td>\n",
       "      <td>SEA</td>\n",
       "      <td>...</td>\n",
       "      <td>0.0</td>\n",
       "      <td>183.0</td>\n",
       "      <td>1.0</td>\n",
       "      <td>1533.0</td>\n",
       "      <td>NaN</td>\n",
       "      <td>NaN</td>\n",
       "      <td>NaN</td>\n",
       "      <td>NaN</td>\n",
       "      <td>NaN</td>\n",
       "      <td>NaN</td>\n",
       "    </tr>\n",
       "    <tr>\n",
       "      <th>92968</th>\n",
       "      <td>2019</td>\n",
       "      <td>8</td>\n",
       "      <td>8</td>\n",
       "      <td>WN</td>\n",
       "      <td>N7819A</td>\n",
       "      <td>1103</td>\n",
       "      <td>LAX</td>\n",
       "      <td>Los Angeles, CA</td>\n",
       "      <td>California</td>\n",
       "      <td>HOU</td>\n",
       "      <td>...</td>\n",
       "      <td>0.0</td>\n",
       "      <td>178.0</td>\n",
       "      <td>1.0</td>\n",
       "      <td>1390.0</td>\n",
       "      <td>NaN</td>\n",
       "      <td>NaN</td>\n",
       "      <td>NaN</td>\n",
       "      <td>NaN</td>\n",
       "      <td>NaN</td>\n",
       "      <td>NaN</td>\n",
       "    </tr>\n",
       "    <tr>\n",
       "      <th>87542</th>\n",
       "      <td>2019</td>\n",
       "      <td>8</td>\n",
       "      <td>30</td>\n",
       "      <td>AS</td>\n",
       "      <td>N549AS</td>\n",
       "      <td>68</td>\n",
       "      <td>SIT</td>\n",
       "      <td>Sitka, AK</td>\n",
       "      <td>Alaska</td>\n",
       "      <td>SEA</td>\n",
       "      <td>...</td>\n",
       "      <td>0.0</td>\n",
       "      <td>108.0</td>\n",
       "      <td>1.0</td>\n",
       "      <td>861.0</td>\n",
       "      <td>NaN</td>\n",
       "      <td>NaN</td>\n",
       "      <td>NaN</td>\n",
       "      <td>NaN</td>\n",
       "      <td>NaN</td>\n",
       "      <td>NaN</td>\n",
       "    </tr>\n",
       "    <tr>\n",
       "      <th>107699</th>\n",
       "      <td>2019</td>\n",
       "      <td>8</td>\n",
       "      <td>14</td>\n",
       "      <td>WN</td>\n",
       "      <td>N243WN</td>\n",
       "      <td>331</td>\n",
       "      <td>DEN</td>\n",
       "      <td>Denver, CO</td>\n",
       "      <td>Colorado</td>\n",
       "      <td>OAK</td>\n",
       "      <td>...</td>\n",
       "      <td>0.0</td>\n",
       "      <td>125.0</td>\n",
       "      <td>1.0</td>\n",
       "      <td>957.0</td>\n",
       "      <td>12.0</td>\n",
       "      <td>0.0</td>\n",
       "      <td>0.0</td>\n",
       "      <td>0.0</td>\n",
       "      <td>63.0</td>\n",
       "      <td>NaN</td>\n",
       "    </tr>\n",
       "    <tr>\n",
       "      <th>317196</th>\n",
       "      <td>2019</td>\n",
       "      <td>8</td>\n",
       "      <td>29</td>\n",
       "      <td>YX</td>\n",
       "      <td>N632RW</td>\n",
       "      <td>3642</td>\n",
       "      <td>IAH</td>\n",
       "      <td>Houston, TX</td>\n",
       "      <td>Texas</td>\n",
       "      <td>ATL</td>\n",
       "      <td>...</td>\n",
       "      <td>0.0</td>\n",
       "      <td>91.0</td>\n",
       "      <td>1.0</td>\n",
       "      <td>689.0</td>\n",
       "      <td>NaN</td>\n",
       "      <td>NaN</td>\n",
       "      <td>NaN</td>\n",
       "      <td>NaN</td>\n",
       "      <td>NaN</td>\n",
       "      <td>NaN</td>\n",
       "    </tr>\n",
       "  </tbody>\n",
       "</table>\n",
       "<p>5 rows × 32 columns</p>\n",
       "</div>"
      ],
      "text/plain": [
       "        YEAR  MONTH  DAY_OF_MONTH OP_UNIQUE_CARRIER TAIL_NUM  \\\n",
       "19905   2019      8            26                DL   N3732J   \n",
       "92968   2019      8             8                WN   N7819A   \n",
       "87542   2019      8            30                AS   N549AS   \n",
       "107699  2019      8            14                WN   N243WN   \n",
       "317196  2019      8            29                YX   N632RW   \n",
       "\n",
       "        OP_CARRIER_FL_NUM ORIGIN ORIGIN_CITY_NAME ORIGIN_STATE_NM DEST  ...  \\\n",
       "19905                3014    FAI    Fairbanks, AK          Alaska  SEA  ...   \n",
       "92968                1103    LAX  Los Angeles, CA      California  HOU  ...   \n",
       "87542                  68    SIT        Sitka, AK          Alaska  SEA  ...   \n",
       "107699                331    DEN       Denver, CO        Colorado  OAK  ...   \n",
       "317196               3642    IAH      Houston, TX           Texas  ATL  ...   \n",
       "\n",
       "       DIVERTED AIR_TIME  FLIGHTS  DISTANCE  CARRIER_DELAY  WEATHER_DELAY  \\\n",
       "19905       0.0    183.0      1.0    1533.0            NaN            NaN   \n",
       "92968       0.0    178.0      1.0    1390.0            NaN            NaN   \n",
       "87542       0.0    108.0      1.0     861.0            NaN            NaN   \n",
       "107699      0.0    125.0      1.0     957.0           12.0            0.0   \n",
       "317196      0.0     91.0      1.0     689.0            NaN            NaN   \n",
       "\n",
       "        NAS_DELAY  SECURITY_DELAY  LATE_AIRCRAFT_DELAY  Unnamed: 31  \n",
       "19905         NaN             NaN                  NaN          NaN  \n",
       "92968         NaN             NaN                  NaN          NaN  \n",
       "87542         NaN             NaN                  NaN          NaN  \n",
       "107699        0.0             0.0                 63.0          NaN  \n",
       "317196        NaN             NaN                  NaN          NaN  \n",
       "\n",
       "[5 rows x 32 columns]"
      ]
     },
     "execution_count": 67,
     "metadata": {},
     "output_type": "execute_result"
    }
   ],
   "source": [
    "airline_raw = data.sample(n=100000, random_state=100)\n",
    "del data\n",
    "airline_raw.head()\n",
    "#data.describe()"
   ]
  },
  {
   "cell_type": "code",
   "execution_count": 68,
   "metadata": {
    "scrolled": false
   },
   "outputs": [
    {
     "name": "stdout",
     "output_type": "stream",
     "text": [
      "<class 'pandas.core.frame.DataFrame'>\n",
      "Int64Index: 100000 entries, 19905 to 544756\n",
      "Data columns (total 32 columns):\n",
      "YEAR                   100000 non-null int64\n",
      "MONTH                  100000 non-null int64\n",
      "DAY_OF_MONTH           100000 non-null int64\n",
      "OP_UNIQUE_CARRIER      100000 non-null object\n",
      "TAIL_NUM               99879 non-null object\n",
      "OP_CARRIER_FL_NUM      100000 non-null int64\n",
      "ORIGIN                 100000 non-null object\n",
      "ORIGIN_CITY_NAME       100000 non-null object\n",
      "ORIGIN_STATE_NM        100000 non-null object\n",
      "DEST                   100000 non-null object\n",
      "DEST_CITY_NAME         100000 non-null object\n",
      "DEST_STATE_NM          100000 non-null object\n",
      "CRS_DEP_TIME           100000 non-null int64\n",
      "DEP_TIME               98360 non-null float64\n",
      "DEP_DELAY              98360 non-null float64\n",
      "TAXI_OUT               98273 non-null float64\n",
      "TAXI_IN                98239 non-null float64\n",
      "CRS_ARR_TIME           100000 non-null int64\n",
      "ARR_TIME               98239 non-null float64\n",
      "ARR_DELAY              98004 non-null float64\n",
      "CANCELLED              100000 non-null float64\n",
      "CANCELLATION_CODE      1740 non-null object\n",
      "DIVERTED               100000 non-null float64\n",
      "AIR_TIME               98004 non-null float64\n",
      "FLIGHTS                100000 non-null float64\n",
      "DISTANCE               100000 non-null float64\n",
      "CARRIER_DELAY          20263 non-null float64\n",
      "WEATHER_DELAY          20263 non-null float64\n",
      "NAS_DELAY              20263 non-null float64\n",
      "SECURITY_DELAY         20263 non-null float64\n",
      "LATE_AIRCRAFT_DELAY    20263 non-null float64\n",
      "Unnamed: 31            0 non-null float64\n",
      "dtypes: float64(17), int64(6), object(9)\n",
      "memory usage: 25.2+ MB\n"
     ]
    }
   ],
   "source": [
    "airline_raw.info()"
   ]
  },
  {
   "cell_type": "code",
   "execution_count": 69,
   "metadata": {},
   "outputs": [
    {
     "data": {
      "text/plain": [
       "Index(['YEAR', 'MONTH', 'DAY_OF_MONTH', 'OP_UNIQUE_CARRIER', 'TAIL_NUM',\n",
       "       'OP_CARRIER_FL_NUM', 'ORIGIN', 'ORIGIN_CITY_NAME', 'ORIGIN_STATE_NM',\n",
       "       'DEST', 'DEST_CITY_NAME', 'DEST_STATE_NM', 'CRS_DEP_TIME', 'DEP_TIME',\n",
       "       'DEP_DELAY', 'TAXI_OUT', 'TAXI_IN', 'CRS_ARR_TIME', 'ARR_TIME',\n",
       "       'ARR_DELAY', 'CANCELLED', 'CANCELLATION_CODE', 'DIVERTED', 'AIR_TIME',\n",
       "       'FLIGHTS', 'DISTANCE', 'CARRIER_DELAY', 'WEATHER_DELAY', 'NAS_DELAY',\n",
       "       'SECURITY_DELAY', 'LATE_AIRCRAFT_DELAY', 'Unnamed: 31'],\n",
       "      dtype='object')"
      ]
     },
     "execution_count": 69,
     "metadata": {},
     "output_type": "execute_result"
    }
   ],
   "source": [
    "airline_raw.columns"
   ]
  },
  {
   "cell_type": "markdown",
   "metadata": {},
   "source": [
    "## Understand and Fix NULL Values"
   ]
  },
  {
   "cell_type": "code",
   "execution_count": 70,
   "metadata": {},
   "outputs": [
    {
     "name": "stdout",
     "output_type": "stream",
     "text": [
      "                             column_name  percent_missing\n",
      "YEAR                                YEAR            0.000\n",
      "MONTH                              MONTH            0.000\n",
      "DAY_OF_MONTH                DAY_OF_MONTH            0.000\n",
      "OP_UNIQUE_CARRIER      OP_UNIQUE_CARRIER            0.000\n",
      "TAIL_NUM                        TAIL_NUM            0.121\n",
      "OP_CARRIER_FL_NUM      OP_CARRIER_FL_NUM            0.000\n",
      "ORIGIN                            ORIGIN            0.000\n",
      "ORIGIN_CITY_NAME        ORIGIN_CITY_NAME            0.000\n",
      "ORIGIN_STATE_NM          ORIGIN_STATE_NM            0.000\n",
      "DEST                                DEST            0.000\n",
      "DEST_CITY_NAME            DEST_CITY_NAME            0.000\n",
      "DEST_STATE_NM              DEST_STATE_NM            0.000\n",
      "CRS_DEP_TIME                CRS_DEP_TIME            0.000\n",
      "DEP_TIME                        DEP_TIME            1.640\n",
      "DEP_DELAY                      DEP_DELAY            1.640\n",
      "TAXI_OUT                        TAXI_OUT            1.727\n",
      "TAXI_IN                          TAXI_IN            1.761\n",
      "CRS_ARR_TIME                CRS_ARR_TIME            0.000\n",
      "ARR_TIME                        ARR_TIME            1.761\n",
      "ARR_DELAY                      ARR_DELAY            1.996\n",
      "CANCELLED                      CANCELLED            0.000\n",
      "CANCELLATION_CODE      CANCELLATION_CODE           98.260\n",
      "DIVERTED                        DIVERTED            0.000\n",
      "AIR_TIME                        AIR_TIME            1.996\n",
      "FLIGHTS                          FLIGHTS            0.000\n",
      "DISTANCE                        DISTANCE            0.000\n",
      "CARRIER_DELAY              CARRIER_DELAY           79.737\n",
      "WEATHER_DELAY              WEATHER_DELAY           79.737\n",
      "NAS_DELAY                      NAS_DELAY           79.737\n",
      "SECURITY_DELAY            SECURITY_DELAY           79.737\n",
      "LATE_AIRCRAFT_DELAY  LATE_AIRCRAFT_DELAY           79.737\n",
      "Unnamed: 31                  Unnamed: 31          100.000\n"
     ]
    }
   ],
   "source": [
    "missing = airline_raw.isnull().mean()*100\n",
    "missing_values = pd.DataFrame({'column_name': airline_raw.columns,\n",
    "                                 'percent_missing': missing})\n",
    "print(missing_values)"
   ]
  },
  {
   "cell_type": "code",
   "execution_count": 71,
   "metadata": {},
   "outputs": [
    {
     "data": {
      "text/plain": [
       "<matplotlib.axes._subplots.AxesSubplot at 0x22742d907f0>"
      ]
     },
     "execution_count": 71,
     "metadata": {},
     "output_type": "execute_result"
    },
    {
     "data": {
      "image/png": "[encoded data removed]",
      "text/plain": [
       "<Figure size 1080x576 with 1 Axes>"
      ]
     },
     "metadata": {
      "needs_background": "light"
     },
     "output_type": "display_data"
    }
   ],
   "source": [
    "plt.figure(figsize=(15,8))\n",
    "sns.barplot(x='column_name',y='percent_missing',data=missing_values)"
   ]
  },
  {
   "cell_type": "code",
   "execution_count": 72,
   "metadata": {},
   "outputs": [],
   "source": [
    "airline_raw.columns = airline_raw.columns.str.lower() # lower case all column names for consistency\n",
    "\n",
    "airline_raw = airline_raw.drop(airline_raw.columns[-1],axis=1) # drop last column"
   ]
  },
  {
   "cell_type": "code",
   "execution_count": 73,
   "metadata": {},
   "outputs": [],
   "source": [
    "cancel = airline_raw[airline_raw.cancelled==1].copy() # get cancellation data in separate df\n",
    "\n",
    "airline = airline_raw[airline_raw.cancelled==0].copy() # remove cancellation data from the full data\n",
    "\n",
    "airline.drop(['cancelled','cancellation_code'], axis=1,inplace=True)"
   ]
  },
  {
   "cell_type": "code",
   "execution_count": 74,
   "metadata": {},
   "outputs": [
    {
     "name": "stdout",
     "output_type": "stream",
     "text": [
      "<class 'pandas.core.frame.DataFrame'>\n",
      "Int64Index: 98260 entries, 19905 to 544756\n",
      "Data columns (total 29 columns):\n",
      "year                   98260 non-null int64\n",
      "month                  98260 non-null int64\n",
      "day_of_month           98260 non-null int64\n",
      "op_unique_carrier      98260 non-null object\n",
      "tail_num               98260 non-null object\n",
      "op_carrier_fl_num      98260 non-null int64\n",
      "origin                 98260 non-null object\n",
      "origin_city_name       98260 non-null object\n",
      "origin_state_nm        98260 non-null object\n",
      "dest                   98260 non-null object\n",
      "dest_city_name         98260 non-null object\n",
      "dest_state_nm          98260 non-null object\n",
      "crs_dep_time           98260 non-null int64\n",
      "dep_time               98260 non-null float64\n",
      "dep_delay              98260 non-null float64\n",
      "taxi_out               98260 non-null float64\n",
      "taxi_in                98239 non-null float64\n",
      "crs_arr_time           98260 non-null int64\n",
      "arr_time               98239 non-null float64\n",
      "arr_delay              98004 non-null float64\n",
      "diverted               98260 non-null float64\n",
      "air_time               98004 non-null float64\n",
      "flights                98260 non-null float64\n",
      "distance               98260 non-null float64\n",
      "carrier_delay          20263 non-null float64\n",
      "weather_delay          20263 non-null float64\n",
      "nas_delay              20263 non-null float64\n",
      "security_delay         20263 non-null float64\n",
      "late_aircraft_delay    20263 non-null float64\n",
      "dtypes: float64(15), int64(6), object(8)\n",
      "memory usage: 22.5+ MB\n"
     ]
    }
   ],
   "source": [
    "airline.info()"
   ]
  },
  {
   "cell_type": "code",
   "execution_count": 75,
   "metadata": {},
   "outputs": [
    {
     "data": {
      "text/html": [
       "<div>\n",
       "<style scoped>\n",
       "    .dataframe tbody tr th:only-of-type {\n",
       "        vertical-align: middle;\n",
       "    }\n",
       "\n",
       "    .dataframe tbody tr th {\n",
       "        vertical-align: top;\n",
       "    }\n",
       "\n",
       "    .dataframe thead th {\n",
       "        text-align: right;\n",
       "    }\n",
       "</style>\n",
       "<table border=\"1\" class=\"dataframe\">\n",
       "  <thead>\n",
       "    <tr style=\"text-align: right;\">\n",
       "      <th></th>\n",
       "      <th>op_unique_carrier</th>\n",
       "      <th>tail_num</th>\n",
       "      <th>op_carrier_fl_num</th>\n",
       "      <th>origin</th>\n",
       "      <th>origin_city_name</th>\n",
       "      <th>origin_state_nm</th>\n",
       "      <th>dest</th>\n",
       "      <th>dest_city_name</th>\n",
       "      <th>dest_state_nm</th>\n",
       "      <th>crs_dep_time</th>\n",
       "      <th>...</th>\n",
       "      <th>diverted</th>\n",
       "      <th>air_time</th>\n",
       "      <th>flights</th>\n",
       "      <th>distance</th>\n",
       "      <th>carrier_delay</th>\n",
       "      <th>weather_delay</th>\n",
       "      <th>nas_delay</th>\n",
       "      <th>security_delay</th>\n",
       "      <th>late_aircraft_delay</th>\n",
       "      <th>date</th>\n",
       "    </tr>\n",
       "  </thead>\n",
       "  <tbody>\n",
       "    <tr>\n",
       "      <th>19905</th>\n",
       "      <td>DL</td>\n",
       "      <td>N3732J</td>\n",
       "      <td>3014</td>\n",
       "      <td>FAI</td>\n",
       "      <td>Fairbanks, AK</td>\n",
       "      <td>Alaska</td>\n",
       "      <td>SEA</td>\n",
       "      <td>Seattle, WA</td>\n",
       "      <td>Washington</td>\n",
       "      <td>1455</td>\n",
       "      <td>...</td>\n",
       "      <td>0.0</td>\n",
       "      <td>183.0</td>\n",
       "      <td>1.0</td>\n",
       "      <td>1533.0</td>\n",
       "      <td>NaN</td>\n",
       "      <td>NaN</td>\n",
       "      <td>NaN</td>\n",
       "      <td>NaN</td>\n",
       "      <td>NaN</td>\n",
       "      <td>2019-08-26</td>\n",
       "    </tr>\n",
       "    <tr>\n",
       "      <th>92968</th>\n",
       "      <td>WN</td>\n",
       "      <td>N7819A</td>\n",
       "      <td>1103</td>\n",
       "      <td>LAX</td>\n",
       "      <td>Los Angeles, CA</td>\n",
       "      <td>California</td>\n",
       "      <td>HOU</td>\n",
       "      <td>Houston, TX</td>\n",
       "      <td>Texas</td>\n",
       "      <td>630</td>\n",
       "      <td>...</td>\n",
       "      <td>0.0</td>\n",
       "      <td>178.0</td>\n",
       "      <td>1.0</td>\n",
       "      <td>1390.0</td>\n",
       "      <td>NaN</td>\n",
       "      <td>NaN</td>\n",
       "      <td>NaN</td>\n",
       "      <td>NaN</td>\n",
       "      <td>NaN</td>\n",
       "      <td>2019-08-08</td>\n",
       "    </tr>\n",
       "    <tr>\n",
       "      <th>87542</th>\n",
       "      <td>AS</td>\n",
       "      <td>N549AS</td>\n",
       "      <td>68</td>\n",
       "      <td>SIT</td>\n",
       "      <td>Sitka, AK</td>\n",
       "      <td>Alaska</td>\n",
       "      <td>SEA</td>\n",
       "      <td>Seattle, WA</td>\n",
       "      <td>Washington</td>\n",
       "      <td>1015</td>\n",
       "      <td>...</td>\n",
       "      <td>0.0</td>\n",
       "      <td>108.0</td>\n",
       "      <td>1.0</td>\n",
       "      <td>861.0</td>\n",
       "      <td>NaN</td>\n",
       "      <td>NaN</td>\n",
       "      <td>NaN</td>\n",
       "      <td>NaN</td>\n",
       "      <td>NaN</td>\n",
       "      <td>2019-08-30</td>\n",
       "    </tr>\n",
       "    <tr>\n",
       "      <th>107699</th>\n",
       "      <td>WN</td>\n",
       "      <td>N243WN</td>\n",
       "      <td>331</td>\n",
       "      <td>DEN</td>\n",
       "      <td>Denver, CO</td>\n",
       "      <td>Colorado</td>\n",
       "      <td>OAK</td>\n",
       "      <td>Oakland, CA</td>\n",
       "      <td>California</td>\n",
       "      <td>1805</td>\n",
       "      <td>...</td>\n",
       "      <td>0.0</td>\n",
       "      <td>125.0</td>\n",
       "      <td>1.0</td>\n",
       "      <td>957.0</td>\n",
       "      <td>12.0</td>\n",
       "      <td>0.0</td>\n",
       "      <td>0.0</td>\n",
       "      <td>0.0</td>\n",
       "      <td>63.0</td>\n",
       "      <td>2019-08-14</td>\n",
       "    </tr>\n",
       "    <tr>\n",
       "      <th>317196</th>\n",
       "      <td>YX</td>\n",
       "      <td>N632RW</td>\n",
       "      <td>3642</td>\n",
       "      <td>IAH</td>\n",
       "      <td>Houston, TX</td>\n",
       "      <td>Texas</td>\n",
       "      <td>ATL</td>\n",
       "      <td>Atlanta, GA</td>\n",
       "      <td>Georgia</td>\n",
       "      <td>1020</td>\n",
       "      <td>...</td>\n",
       "      <td>0.0</td>\n",
       "      <td>91.0</td>\n",
       "      <td>1.0</td>\n",
       "      <td>689.0</td>\n",
       "      <td>NaN</td>\n",
       "      <td>NaN</td>\n",
       "      <td>NaN</td>\n",
       "      <td>NaN</td>\n",
       "      <td>NaN</td>\n",
       "      <td>2019-08-29</td>\n",
       "    </tr>\n",
       "  </tbody>\n",
       "</table>\n",
       "<p>5 rows × 27 columns</p>\n",
       "</div>"
      ],
      "text/plain": [
       "       op_unique_carrier tail_num  op_carrier_fl_num origin origin_city_name  \\\n",
       "19905                 DL   N3732J               3014    FAI    Fairbanks, AK   \n",
       "92968                 WN   N7819A               1103    LAX  Los Angeles, CA   \n",
       "87542                 AS   N549AS                 68    SIT        Sitka, AK   \n",
       "107699                WN   N243WN                331    DEN       Denver, CO   \n",
       "317196                YX   N632RW               3642    IAH      Houston, TX   \n",
       "\n",
       "       origin_state_nm dest dest_city_name dest_state_nm  crs_dep_time  ...  \\\n",
       "19905           Alaska  SEA    Seattle, WA    Washington          1455  ...   \n",
       "92968       California  HOU    Houston, TX         Texas           630  ...   \n",
       "87542           Alaska  SEA    Seattle, WA    Washington          1015  ...   \n",
       "107699        Colorado  OAK    Oakland, CA    California          1805  ...   \n",
       "317196           Texas  ATL    Atlanta, GA       Georgia          1020  ...   \n",
       "\n",
       "        diverted  air_time  flights  distance  carrier_delay  weather_delay  \\\n",
       "19905        0.0     183.0      1.0    1533.0            NaN            NaN   \n",
       "92968        0.0     178.0      1.0    1390.0            NaN            NaN   \n",
       "87542        0.0     108.0      1.0     861.0            NaN            NaN   \n",
       "107699       0.0     125.0      1.0     957.0           12.0            0.0   \n",
       "317196       0.0      91.0      1.0     689.0            NaN            NaN   \n",
       "\n",
       "        nas_delay  security_delay  late_aircraft_delay       date  \n",
       "19905         NaN             NaN                  NaN 2019-08-26  \n",
       "92968         NaN             NaN                  NaN 2019-08-08  \n",
       "87542         NaN             NaN                  NaN 2019-08-30  \n",
       "107699        0.0             0.0                 63.0 2019-08-14  \n",
       "317196        NaN             NaN                  NaN 2019-08-29  \n",
       "\n",
       "[5 rows x 27 columns]"
      ]
     },
     "execution_count": 75,
     "metadata": {},
     "output_type": "execute_result"
    }
   ],
   "source": [
    "# convert date and months columns to datetime and remove individual columns\n",
    "\n",
    "airline['date'] = pd.to_datetime(airline[['day_of_month','month','year']].astype(str).apply(' '.join, 1), format='%d %m %Y')\n",
    "\n",
    "airline.drop(['day_of_month','month','year'], axis=1, inplace=True)\n",
    "\n",
    "airline.head()"
   ]
  },
  {
   "cell_type": "code",
   "execution_count": 76,
   "metadata": {},
   "outputs": [
    {
     "data": {
      "text/plain": [
       "256"
      ]
     },
     "execution_count": 76,
     "metadata": {},
     "output_type": "execute_result"
    }
   ],
   "source": [
    "# check for NA in arrival time\n",
    "airline.arr_delay.isnull().sum()"
   ]
  },
  {
   "cell_type": "code",
   "execution_count": 77,
   "metadata": {},
   "outputs": [
    {
     "data": {
      "text/plain": [
       "0"
      ]
     },
     "execution_count": 77,
     "metadata": {},
     "output_type": "execute_result"
    }
   ],
   "source": [
    "# Arrival delay column still has some NULL values, lets explore those.\n",
    "\n",
    "airline[airline.arr_delay.isnull()==True].describe()\n",
    "\n",
    "# Seems like all NAs are from flights which have been diverted. Lets verify that.\n",
    "\n",
    "airline[airline.diverted==0].arr_delay.isnull().sum() # This verifies that no arrival time is listed for diverted flights."
   ]
  },
  {
   "cell_type": "code",
   "execution_count": 78,
   "metadata": {},
   "outputs": [],
   "source": [
    "# No arrival time listed for diverted flights, store diverted flights data in deparate df\n",
    "divert = airline[airline.diverted==1].copy()\n",
    "airline = airline[airline.diverted==0]\n",
    "airline.drop(['diverted'], axis=1,inplace=True)"
   ]
  },
  {
   "cell_type": "code",
   "execution_count": 79,
   "metadata": {},
   "outputs": [
    {
     "name": "stdout",
     "output_type": "stream",
     "text": [
      "       op_unique_carrier tail_num  op_carrier_fl_num origin  \\\n",
      "64938                 YX   N437YX               4424    PVD   \n",
      "617159                AA   N917AN               1259    BOS   \n",
      "148217                UA   N13750               1464    ORF   \n",
      "254115                DL   N922DL               2141    ORF   \n",
      "293867                YV   N85355               6089    OKC   \n",
      "\n",
      "         origin_city_name origin_state_nm dest  dest_city_name dest_state_nm  \\\n",
      "64938      Providence, RI    Rhode Island  DCA  Washington, DC      Virginia   \n",
      "617159         Boston, MA   Massachusetts  MIA       Miami, FL       Florida   \n",
      "148217        Norfolk, VA        Virginia  ORD     Chicago, IL      Illinois   \n",
      "254115        Norfolk, VA        Virginia  ATL     Atlanta, GA       Georgia   \n",
      "293867  Oklahoma City, OK        Oklahoma  IAH     Houston, TX         Texas   \n",
      "\n",
      "        crs_dep_time  ...  arr_delay  air_time  flights  distance  \\\n",
      "64938           1336  ...     1035.0      60.0      1.0     356.0   \n",
      "617159           728  ...      815.0     170.0      1.0    1258.0   \n",
      "148217           715  ...     1048.0     110.0      1.0     717.0   \n",
      "254115          1427  ...     1081.0      72.0      1.0     516.0   \n",
      "293867           710  ...     1571.0      61.0      1.0     395.0   \n",
      "\n",
      "        carrier_delay  weather_delay  nas_delay  security_delay  \\\n",
      "64938          1035.0            0.0        0.0             0.0   \n",
      "617159            0.0            0.0        0.0             0.0   \n",
      "148217         1045.0            0.0        3.0             0.0   \n",
      "254115         1081.0            0.0        0.0             0.0   \n",
      "293867         1571.0            0.0        0.0             0.0   \n",
      "\n",
      "        late_aircraft_delay       date  \n",
      "64938                   0.0 2019-08-07  \n",
      "617159                815.0 2019-08-25  \n",
      "148217                  0.0 2019-08-14  \n",
      "254115                  0.0 2019-08-13  \n",
      "293867                  0.0 2019-08-02  \n",
      "\n",
      "[5 rows x 26 columns]\n"
     ]
    },
    {
     "data": {
      "text/plain": [
       "136220   -70.0\n",
       "321127   -64.0\n",
       "140470   -63.0\n",
       "128585   -62.0\n",
       "451507   -61.0\n",
       "Name: arr_delay, dtype: float64"
      ]
     },
     "execution_count": 79,
     "metadata": {},
     "output_type": "execute_result"
    },
    {
     "data": {
      "image/png": "[encoded data removed]",
      "text/plain": [
       "<Figure size 432x288 with 1 Axes>"
      ]
     },
     "metadata": {
      "needs_background": "light"
     },
     "output_type": "display_data"
    }
   ],
   "source": [
    "sns.distplot(airline.arr_delay)\n",
    "airline.arr_delay.describe()\n",
    "\n",
    "## Check max values for airline delay\n",
    "airline.arr_delay.sort_values(ascending=False)\n",
    "print(airline[airline.arr_delay>800].head()) # the delay looks legit and we will keep these extreme values\n",
    "\n",
    "## Check min values for airline delay\n",
    "airline.arr_delay.sort_values(ascending=True).head(5)\n"
   ]
  },
  {
   "cell_type": "code",
   "execution_count": 60,
   "metadata": {},
   "outputs": [
    {
     "data": {
      "text/plain": [
       "<matplotlib.axes._subplots.AxesSubplot at 0x22734e2e2b0>"
      ]
     },
     "execution_count": 60,
     "metadata": {},
     "output_type": "execute_result"
    },
    {
     "data": {
      "image/png": "[encoded data removed]",
      "text/plain": [
       "<Figure size 432x288 with 1 Axes>"
      ]
     },
     "metadata": {
      "needs_background": "light"
     },
     "output_type": "display_data"
    }
   ],
   "source": [
    "sns.boxplot(airline.arr_delay)"
   ]
  },
  {
   "cell_type": "code",
   "execution_count": 80,
   "metadata": {},
   "outputs": [],
   "source": [
    "# make a flag for delayed flight. If the flight is more than 15 minutes late, then we will consider it as late.\n",
    "\n",
    "airline['delayed'] = (airline.arr_delay > 15).astype('int')"
   ]
  },
  {
   "cell_type": "code",
   "execution_count": 81,
   "metadata": {},
   "outputs": [
    {
     "data": {
      "text/plain": [
       "0    78338\n",
       "1    19666\n",
       "Name: delayed, dtype: int64"
      ]
     },
     "execution_count": 81,
     "metadata": {},
     "output_type": "execute_result"
    }
   ],
   "source": [
    "airline.delayed.value_counts()"
   ]
  },
  {
   "cell_type": "code",
   "execution_count": 83,
   "metadata": {},
   "outputs": [
    {
     "data": {
      "text/plain": [
       "Index(['op_unique_carrier', 'tail_num', 'op_carrier_fl_num', 'origin',\n",
       "       'origin_city_name', 'origin_state_nm', 'dest', 'dest_city_name',\n",
       "       'dest_state_nm', 'crs_dep_time', 'dep_time', 'dep_delay', 'taxi_out',\n",
       "       'taxi_in', 'crs_arr_time', 'arr_time', 'arr_delay', 'air_time',\n",
       "       'flights', 'distance', 'carrier_delay', 'weather_delay', 'nas_delay',\n",
       "       'security_delay', 'late_aircraft_delay', 'date', 'delayed'],\n",
       "      dtype='object')"
      ]
     },
     "execution_count": 83,
     "metadata": {},
     "output_type": "execute_result"
    }
   ],
   "source": [
    "#sns.pairplot(airline)\n",
    "#[['UniqueCarrier', 'FlightNum', 'TailNum', 'Origin', 'Dest']]\n",
    "airline.origin_city_name.value_counts()\n",
    "#airline.columns"
   ]
  },
  {
   "cell_type": "code",
   "execution_count": 84,
   "metadata": {},
   "outputs": [],
   "source": [
    "\n",
    "var = ['op_unique_carrier', 'tail_num', 'op_carrier_fl_num', 'origin',\n",
    "       'origin_city_name', 'origin_state_nm', 'dest', 'dest_city_name',\n",
    "       'dest_state_nm']\n",
    "for v in var:\n",
    "    airline[v] = airline[v].astype('category')\n"
   ]
  },
  {
   "cell_type": "code",
   "execution_count": 116,
   "metadata": {},
   "outputs": [],
   "source": [
    "# only keep variables which will be used in model and are available before hand\n",
    "\n",
    "airline_model = airline[['op_unique_carrier', 'tail_num', 'op_carrier_fl_num', 'origin',\n",
    "                         'origin_city_name', 'origin_state_nm', 'dest', 'dest_city_name',\n",
    "                         'dest_state_nm','crs_dep_time','crs_arr_time','air_time','distance','delayed']].copy()"
   ]
  },
  {
   "cell_type": "code",
   "execution_count": 126,
   "metadata": {},
   "outputs": [],
   "source": [
    "# Check delayed flights by destination \n",
    "\n",
    "by_orig = airline_model.groupby('dest').agg(['sum', 'count'])['delayed'].sort_values(by='sum',ascending=False).cumsum()\n",
    "#by_orig\n",
    "by_orig = by_orig.reset_index()\n",
    "#by_orig"
   ]
  },
  {
   "cell_type": "code",
   "execution_count": 127,
   "metadata": {},
   "outputs": [
    {
     "data": {
      "text/plain": [
       "Text(0.5, 1.0, 'Total Flights')"
      ]
     },
     "execution_count": 127,
     "metadata": {},
     "output_type": "execute_result"
    },
    {
     "data": {
      "image/png": "[encoded data removed]",
      "text/plain": [
       "<Figure size 1080x576 with 2 Axes>"
      ]
     },
     "metadata": {
      "needs_background": "light"
     },
     "output_type": "display_data"
    }
   ],
   "source": [
    "plt.figure(figsize=(15,8))\n",
    "\n",
    "plt.subplot(1,2,1)\n",
    "plt.grid()\n",
    "plt.plot(by_orig['sum']*100/by_orig['sum'].max(),'bo')\n",
    "plt.title('Delayed Flights')\n",
    "\n",
    "plt.subplot(1,2,2)\n",
    "plt.grid()\n",
    "plt.plot(by_orig['count']*100/by_orig['count'].max(),'bo')\n",
    "plt.title('Total Flights')"
   ]
  },
  {
   "cell_type": "code",
   "execution_count": 130,
   "metadata": {},
   "outputs": [
    {
     "data": {
      "text/html": [
       "<div>\n",
       "<style scoped>\n",
       "    .dataframe tbody tr th:only-of-type {\n",
       "        vertical-align: middle;\n",
       "    }\n",
       "\n",
       "    .dataframe tbody tr th {\n",
       "        vertical-align: top;\n",
       "    }\n",
       "\n",
       "    .dataframe thead th {\n",
       "        text-align: right;\n",
       "    }\n",
       "</style>\n",
       "<table border=\"1\" class=\"dataframe\">\n",
       "  <thead>\n",
       "    <tr style=\"text-align: right;\">\n",
       "      <th></th>\n",
       "      <th>op_unique_carrier</th>\n",
       "      <th>tail_num</th>\n",
       "      <th>op_carrier_fl_num</th>\n",
       "      <th>origin</th>\n",
       "      <th>origin_city_name</th>\n",
       "      <th>origin_state_nm</th>\n",
       "      <th>dest</th>\n",
       "      <th>dest_city_name</th>\n",
       "      <th>dest_state_nm</th>\n",
       "      <th>crs_dep_time</th>\n",
       "      <th>crs_arr_time</th>\n",
       "      <th>air_time</th>\n",
       "      <th>distance</th>\n",
       "      <th>delayed</th>\n",
       "    </tr>\n",
       "  </thead>\n",
       "  <tbody>\n",
       "    <tr>\n",
       "      <th>19905</th>\n",
       "      <td>DL</td>\n",
       "      <td>N3732J</td>\n",
       "      <td>3014</td>\n",
       "      <td>FAI</td>\n",
       "      <td>Fairbanks, AK</td>\n",
       "      <td>Alaska</td>\n",
       "      <td>SEA</td>\n",
       "      <td>Seattle, WA</td>\n",
       "      <td>Washington</td>\n",
       "      <td>1455</td>\n",
       "      <td>1933</td>\n",
       "      <td>183.0</td>\n",
       "      <td>1533.0</td>\n",
       "      <td>0</td>\n",
       "    </tr>\n",
       "    <tr>\n",
       "      <th>92968</th>\n",
       "      <td>WN</td>\n",
       "      <td>N7819A</td>\n",
       "      <td>1103</td>\n",
       "      <td>LAX</td>\n",
       "      <td>Los Angeles, CA</td>\n",
       "      <td>California</td>\n",
       "      <td>HOU</td>\n",
       "      <td>Houston, TX</td>\n",
       "      <td>Texas</td>\n",
       "      <td>630</td>\n",
       "      <td>1145</td>\n",
       "      <td>178.0</td>\n",
       "      <td>1390.0</td>\n",
       "      <td>0</td>\n",
       "    </tr>\n",
       "    <tr>\n",
       "      <th>87542</th>\n",
       "      <td>AS</td>\n",
       "      <td>N549AS</td>\n",
       "      <td>68</td>\n",
       "      <td>SIT</td>\n",
       "      <td>Sitka, AK</td>\n",
       "      <td>Alaska</td>\n",
       "      <td>SEA</td>\n",
       "      <td>Seattle, WA</td>\n",
       "      <td>Washington</td>\n",
       "      <td>1015</td>\n",
       "      <td>1330</td>\n",
       "      <td>108.0</td>\n",
       "      <td>861.0</td>\n",
       "      <td>0</td>\n",
       "    </tr>\n",
       "    <tr>\n",
       "      <th>107699</th>\n",
       "      <td>WN</td>\n",
       "      <td>N243WN</td>\n",
       "      <td>331</td>\n",
       "      <td>DEN</td>\n",
       "      <td>Denver, CO</td>\n",
       "      <td>Colorado</td>\n",
       "      <td>OAK</td>\n",
       "      <td>Oakland, CA</td>\n",
       "      <td>California</td>\n",
       "      <td>1805</td>\n",
       "      <td>1940</td>\n",
       "      <td>125.0</td>\n",
       "      <td>957.0</td>\n",
       "      <td>1</td>\n",
       "    </tr>\n",
       "    <tr>\n",
       "      <th>317196</th>\n",
       "      <td>YX</td>\n",
       "      <td>N632RW</td>\n",
       "      <td>3642</td>\n",
       "      <td>IAH</td>\n",
       "      <td>Houston, TX</td>\n",
       "      <td>Texas</td>\n",
       "      <td>ATL</td>\n",
       "      <td>Atlanta, GA</td>\n",
       "      <td>Georgia</td>\n",
       "      <td>1020</td>\n",
       "      <td>1330</td>\n",
       "      <td>91.0</td>\n",
       "      <td>689.0</td>\n",
       "      <td>0</td>\n",
       "    </tr>\n",
       "    <tr>\n",
       "      <th>342157</th>\n",
       "      <td>MQ</td>\n",
       "      <td>N805AE</td>\n",
       "      <td>3634</td>\n",
       "      <td>ORF</td>\n",
       "      <td>Norfolk, VA</td>\n",
       "      <td>Virginia</td>\n",
       "      <td>LGA</td>\n",
       "      <td>New York, NY</td>\n",
       "      <td>New York</td>\n",
       "      <td>545</td>\n",
       "      <td>709</td>\n",
       "      <td>51.0</td>\n",
       "      <td>296.0</td>\n",
       "      <td>0</td>\n",
       "    </tr>\n",
       "    <tr>\n",
       "      <th>241344</th>\n",
       "      <td>WN</td>\n",
       "      <td>N239WN</td>\n",
       "      <td>3517</td>\n",
       "      <td>MDW</td>\n",
       "      <td>Chicago, IL</td>\n",
       "      <td>Illinois</td>\n",
       "      <td>MSP</td>\n",
       "      <td>Minneapolis, MN</td>\n",
       "      <td>Minnesota</td>\n",
       "      <td>825</td>\n",
       "      <td>950</td>\n",
       "      <td>58.0</td>\n",
       "      <td>349.0</td>\n",
       "      <td>0</td>\n",
       "    </tr>\n",
       "    <tr>\n",
       "      <th>332820</th>\n",
       "      <td>MQ</td>\n",
       "      <td>N809AE</td>\n",
       "      <td>3374</td>\n",
       "      <td>LGA</td>\n",
       "      <td>New York, NY</td>\n",
       "      <td>New York</td>\n",
       "      <td>DTW</td>\n",
       "      <td>Detroit, MI</td>\n",
       "      <td>Michigan</td>\n",
       "      <td>746</td>\n",
       "      <td>939</td>\n",
       "      <td>81.0</td>\n",
       "      <td>502.0</td>\n",
       "      <td>0</td>\n",
       "    </tr>\n",
       "    <tr>\n",
       "      <th>199915</th>\n",
       "      <td>AA</td>\n",
       "      <td>N119US</td>\n",
       "      <td>1722</td>\n",
       "      <td>LGA</td>\n",
       "      <td>New York, NY</td>\n",
       "      <td>New York</td>\n",
       "      <td>CLT</td>\n",
       "      <td>Charlotte, NC</td>\n",
       "      <td>North Carolina</td>\n",
       "      <td>1909</td>\n",
       "      <td>2123</td>\n",
       "      <td>82.0</td>\n",
       "      <td>544.0</td>\n",
       "      <td>0</td>\n",
       "    </tr>\n",
       "    <tr>\n",
       "      <th>242097</th>\n",
       "      <td>WN</td>\n",
       "      <td>N8677A</td>\n",
       "      <td>3750</td>\n",
       "      <td>SEA</td>\n",
       "      <td>Seattle, WA</td>\n",
       "      <td>Washington</td>\n",
       "      <td>LAS</td>\n",
       "      <td>Las Vegas, NV</td>\n",
       "      <td>Nevada</td>\n",
       "      <td>730</td>\n",
       "      <td>1000</td>\n",
       "      <td>110.0</td>\n",
       "      <td>867.0</td>\n",
       "      <td>0</td>\n",
       "    </tr>\n",
       "  </tbody>\n",
       "</table>\n",
       "</div>"
      ],
      "text/plain": [
       "       op_unique_carrier tail_num op_carrier_fl_num origin origin_city_name  \\\n",
       "19905                 DL   N3732J              3014    FAI    Fairbanks, AK   \n",
       "92968                 WN   N7819A              1103    LAX  Los Angeles, CA   \n",
       "87542                 AS   N549AS                68    SIT        Sitka, AK   \n",
       "107699                WN   N243WN               331    DEN       Denver, CO   \n",
       "317196                YX   N632RW              3642    IAH      Houston, TX   \n",
       "342157                MQ   N805AE              3634    ORF      Norfolk, VA   \n",
       "241344                WN   N239WN              3517    MDW      Chicago, IL   \n",
       "332820                MQ   N809AE              3374    LGA     New York, NY   \n",
       "199915                AA   N119US              1722    LGA     New York, NY   \n",
       "242097                WN   N8677A              3750    SEA      Seattle, WA   \n",
       "\n",
       "       origin_state_nm dest   dest_city_name   dest_state_nm  crs_dep_time  \\\n",
       "19905           Alaska  SEA      Seattle, WA      Washington          1455   \n",
       "92968       California  HOU      Houston, TX           Texas           630   \n",
       "87542           Alaska  SEA      Seattle, WA      Washington          1015   \n",
       "107699        Colorado  OAK      Oakland, CA      California          1805   \n",
       "317196           Texas  ATL      Atlanta, GA         Georgia          1020   \n",
       "342157        Virginia  LGA     New York, NY        New York           545   \n",
       "241344        Illinois  MSP  Minneapolis, MN       Minnesota           825   \n",
       "332820        New York  DTW      Detroit, MI        Michigan           746   \n",
       "199915        New York  CLT    Charlotte, NC  North Carolina          1909   \n",
       "242097      Washington  LAS    Las Vegas, NV          Nevada           730   \n",
       "\n",
       "        crs_arr_time  air_time  distance  delayed  \n",
       "19905           1933     183.0    1533.0        0  \n",
       "92968           1145     178.0    1390.0        0  \n",
       "87542           1330     108.0     861.0        0  \n",
       "107699          1940     125.0     957.0        1  \n",
       "317196          1330      91.0     689.0        0  \n",
       "342157           709      51.0     296.0        0  \n",
       "241344           950      58.0     349.0        0  \n",
       "332820           939      81.0     502.0        0  \n",
       "199915          2123      82.0     544.0        0  \n",
       "242097          1000     110.0     867.0        0  "
      ]
     },
     "execution_count": 130,
     "metadata": {},
     "output_type": "execute_result"
    }
   ],
   "source": [
    "# We choose top 100 cities, because that makes up more than 90% of data.\n",
    "airline_top_100 = airline_model[airline_model['dest'].isin(by_orig.dest.head(100))]\n",
    "airline_top_100.head(10)"
   ]
  },
  {
   "cell_type": "code",
   "execution_count": 110,
   "metadata": {},
   "outputs": [
    {
     "data": {
      "text/plain": [
       "op_unique_carrier\n",
       "9E    0.182190\n",
       "AA    0.225082\n",
       "AS    0.197823\n",
       "B6    0.313123\n",
       "DL    0.160104\n",
       "EV    0.293544\n",
       "F9    0.261631\n",
       "G4    0.238450\n",
       "HA    0.088504\n",
       "MQ    0.203175\n",
       "NK    0.261033\n",
       "OH    0.239852\n",
       "OO    0.175051\n",
       "UA    0.227229\n",
       "WN    0.158356\n",
       "YV    0.220788\n",
       "YX    0.228146\n",
       "Name: delayed, dtype: float64"
      ]
     },
     "execution_count": 110,
     "metadata": {},
     "output_type": "execute_result"
    }
   ],
   "source": [
    "airline_model.groupby('op_unique_carrier').mean()['delayed']"
   ]
  },
  {
   "cell_type": "code",
   "execution_count": 120,
   "metadata": {},
   "outputs": [
    {
     "data": {
      "text/plain": [
       "crs_dep_time    0.180022\n",
       "crs_arr_time    0.151808\n",
       "air_time        0.048703\n",
       "distance        0.025747\n",
       "delayed         1.000000\n",
       "Name: delayed, dtype: float64"
      ]
     },
     "execution_count": 120,
     "metadata": {},
     "output_type": "execute_result"
    }
   ],
   "source": [
    "airline_model.corr()['delayed']"
   ]
  },
  {
   "cell_type": "code",
   "execution_count": 115,
   "metadata": {},
   "outputs": [
    {
     "data": {
      "text/plain": [
       "count    98004.0\n",
       "mean         1.0\n",
       "std          0.0\n",
       "min          1.0\n",
       "25%          1.0\n",
       "50%          1.0\n",
       "75%          1.0\n",
       "max          1.0\n",
       "Name: flights, dtype: float64"
      ]
     },
     "execution_count": 115,
     "metadata": {},
     "output_type": "execute_result"
    }
   ],
   "source": [
    "airline_model.flights.describe()"
   ]
  },
  {
   "cell_type": "code",
   "execution_count": null,
   "metadata": {},
   "outputs": [],
   "source": []
  }
 ],
 "metadata": {
  "kernelspec": {
   "display_name": "Python 3",
   "language": "python",
   "name": "python3"
  },
  "language_info": {
   "codemirror_mode": {
    "name": "ipython",
    "version": 3
   },
   "file_extension": ".py",
   "mimetype": "text/x-python",
   "name": "python",
   "nbconvert_exporter": "python",
   "pygments_lexer": "ipython3",
   "version": "3.7.3"
  }
 },
 "nbformat": 4,
 "nbformat_minor": 2
}
