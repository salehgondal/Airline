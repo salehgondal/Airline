{
 "cells": [
  {
   "cell_type": "code",
   "execution_count": 1,
   "metadata": {},
   "outputs": [],
   "source": [
    "#http://stat-computing.org/dataexpo/2009/the-data.html\n",
    "\n",
    "import numpy as np\n",
    "import pandas as pd\n",
    "import seaborn as sns\n",
    "from matplotlib import pyplot as plt\n",
    "%matplotlib inline\n",
    "from datetime import timedelta,date\n",
    "import datetime"
   ]
  },
  {
   "cell_type": "code",
   "execution_count": 22,
   "metadata": {},
   "outputs": [],
   "source": [
    "data = pd.read_csv('C:/Users/snasir/Desktop/DSA/Python/airline_arrivals.csv')"
   ]
  },
  {
   "cell_type": "code",
   "execution_count": 23,
   "metadata": {},
   "outputs": [
    {
     "data": {
      "text/html": [
       "<div>\n",
       "<style scoped>\n",
       "    .dataframe tbody tr th:only-of-type {\n",
       "        vertical-align: middle;\n",
       "    }\n",
       "\n",
       "    .dataframe tbody tr th {\n",
       "        vertical-align: top;\n",
       "    }\n",
       "\n",
       "    .dataframe thead th {\n",
       "        text-align: right;\n",
       "    }\n",
       "</style>\n",
       "<table border=\"1\" class=\"dataframe\">\n",
       "  <thead>\n",
       "    <tr style=\"text-align: right;\">\n",
       "      <th></th>\n",
       "      <th>Year</th>\n",
       "      <th>Month</th>\n",
       "      <th>DayofMonth</th>\n",
       "      <th>DayOfWeek</th>\n",
       "      <th>DepTime</th>\n",
       "      <th>CRSDepTime</th>\n",
       "      <th>ArrTime</th>\n",
       "      <th>CRSArrTime</th>\n",
       "      <th>UniqueCarrier</th>\n",
       "      <th>FlightNum</th>\n",
       "      <th>...</th>\n",
       "      <th>TaxiIn</th>\n",
       "      <th>TaxiOut</th>\n",
       "      <th>Cancelled</th>\n",
       "      <th>CancellationCode</th>\n",
       "      <th>Diverted</th>\n",
       "      <th>CarrierDelay</th>\n",
       "      <th>WeatherDelay</th>\n",
       "      <th>NASDelay</th>\n",
       "      <th>SecurityDelay</th>\n",
       "      <th>LateAircraftDelay</th>\n",
       "    </tr>\n",
       "  </thead>\n",
       "  <tbody>\n",
       "    <tr>\n",
       "      <td>2815734</td>\n",
       "      <td>2008</td>\n",
       "      <td>5</td>\n",
       "      <td>24</td>\n",
       "      <td>6</td>\n",
       "      <td>1339.0</td>\n",
       "      <td>1340</td>\n",
       "      <td>1626.0</td>\n",
       "      <td>1635</td>\n",
       "      <td>NW</td>\n",
       "      <td>284</td>\n",
       "      <td>...</td>\n",
       "      <td>6.0</td>\n",
       "      <td>13.0</td>\n",
       "      <td>0</td>\n",
       "      <td>NaN</td>\n",
       "      <td>0</td>\n",
       "      <td>NaN</td>\n",
       "      <td>NaN</td>\n",
       "      <td>NaN</td>\n",
       "      <td>NaN</td>\n",
       "      <td>NaN</td>\n",
       "    </tr>\n",
       "    <tr>\n",
       "      <td>3469890</td>\n",
       "      <td>2008</td>\n",
       "      <td>6</td>\n",
       "      <td>1</td>\n",
       "      <td>7</td>\n",
       "      <td>2131.0</td>\n",
       "      <td>2138</td>\n",
       "      <td>2229.0</td>\n",
       "      <td>2240</td>\n",
       "      <td>9E</td>\n",
       "      <td>5867</td>\n",
       "      <td>...</td>\n",
       "      <td>5.0</td>\n",
       "      <td>24.0</td>\n",
       "      <td>0</td>\n",
       "      <td>NaN</td>\n",
       "      <td>0</td>\n",
       "      <td>NaN</td>\n",
       "      <td>NaN</td>\n",
       "      <td>NaN</td>\n",
       "      <td>NaN</td>\n",
       "      <td>NaN</td>\n",
       "    </tr>\n",
       "    <tr>\n",
       "      <td>1833281</td>\n",
       "      <td>2008</td>\n",
       "      <td>4</td>\n",
       "      <td>16</td>\n",
       "      <td>3</td>\n",
       "      <td>1738.0</td>\n",
       "      <td>1730</td>\n",
       "      <td>1838.0</td>\n",
       "      <td>1835</td>\n",
       "      <td>WN</td>\n",
       "      <td>3429</td>\n",
       "      <td>...</td>\n",
       "      <td>2.0</td>\n",
       "      <td>9.0</td>\n",
       "      <td>0</td>\n",
       "      <td>NaN</td>\n",
       "      <td>0</td>\n",
       "      <td>NaN</td>\n",
       "      <td>NaN</td>\n",
       "      <td>NaN</td>\n",
       "      <td>NaN</td>\n",
       "      <td>NaN</td>\n",
       "    </tr>\n",
       "    <tr>\n",
       "      <td>98132</td>\n",
       "      <td>2008</td>\n",
       "      <td>1</td>\n",
       "      <td>28</td>\n",
       "      <td>1</td>\n",
       "      <td>1916.0</td>\n",
       "      <td>1920</td>\n",
       "      <td>2032.0</td>\n",
       "      <td>2031</td>\n",
       "      <td>XE</td>\n",
       "      <td>444</td>\n",
       "      <td>...</td>\n",
       "      <td>5.0</td>\n",
       "      <td>7.0</td>\n",
       "      <td>0</td>\n",
       "      <td>NaN</td>\n",
       "      <td>0</td>\n",
       "      <td>NaN</td>\n",
       "      <td>NaN</td>\n",
       "      <td>NaN</td>\n",
       "      <td>NaN</td>\n",
       "      <td>NaN</td>\n",
       "    </tr>\n",
       "    <tr>\n",
       "      <td>4957204</td>\n",
       "      <td>2008</td>\n",
       "      <td>9</td>\n",
       "      <td>12</td>\n",
       "      <td>5</td>\n",
       "      <td>634.0</td>\n",
       "      <td>638</td>\n",
       "      <td>1021.0</td>\n",
       "      <td>1000</td>\n",
       "      <td>XE</td>\n",
       "      <td>2585</td>\n",
       "      <td>...</td>\n",
       "      <td>6.0</td>\n",
       "      <td>30.0</td>\n",
       "      <td>0</td>\n",
       "      <td>NaN</td>\n",
       "      <td>0</td>\n",
       "      <td>0.0</td>\n",
       "      <td>0.0</td>\n",
       "      <td>21.0</td>\n",
       "      <td>0.0</td>\n",
       "      <td>0.0</td>\n",
       "    </tr>\n",
       "  </tbody>\n",
       "</table>\n",
       "<p>5 rows × 29 columns</p>\n",
       "</div>"
      ],
      "text/plain": [
       "         Year  Month  DayofMonth  DayOfWeek  DepTime  CRSDepTime  ArrTime  \\\n",
       "2815734  2008      5          24          6   1339.0        1340   1626.0   \n",
       "3469890  2008      6           1          7   2131.0        2138   2229.0   \n",
       "1833281  2008      4          16          3   1738.0        1730   1838.0   \n",
       "98132    2008      1          28          1   1916.0        1920   2032.0   \n",
       "4957204  2008      9          12          5    634.0         638   1021.0   \n",
       "\n",
       "         CRSArrTime UniqueCarrier  FlightNum  ... TaxiIn  TaxiOut  Cancelled  \\\n",
       "2815734        1635            NW        284  ...    6.0     13.0          0   \n",
       "3469890        2240            9E       5867  ...    5.0     24.0          0   \n",
       "1833281        1835            WN       3429  ...    2.0      9.0          0   \n",
       "98132          2031            XE        444  ...    5.0      7.0          0   \n",
       "4957204        1000            XE       2585  ...    6.0     30.0          0   \n",
       "\n",
       "         CancellationCode  Diverted  CarrierDelay WeatherDelay NASDelay  \\\n",
       "2815734               NaN         0           NaN          NaN      NaN   \n",
       "3469890               NaN         0           NaN          NaN      NaN   \n",
       "1833281               NaN         0           NaN          NaN      NaN   \n",
       "98132                 NaN         0           NaN          NaN      NaN   \n",
       "4957204               NaN         0           0.0          0.0     21.0   \n",
       "\n",
       "         SecurityDelay  LateAircraftDelay  \n",
       "2815734            NaN                NaN  \n",
       "3469890            NaN                NaN  \n",
       "1833281            NaN                NaN  \n",
       "98132              NaN                NaN  \n",
       "4957204            0.0                0.0  \n",
       "\n",
       "[5 rows x 29 columns]"
      ]
     },
     "execution_count": 23,
     "metadata": {},
     "output_type": "execute_result"
    }
   ],
   "source": [
    "airline_raw = data.sample(n=100000, random_state=100)\n",
    "del data\n",
    "airline_raw.head()"
   ]
  },
  {
   "cell_type": "code",
   "execution_count": 24,
   "metadata": {
    "scrolled": false
   },
   "outputs": [
    {
     "name": "stdout",
     "output_type": "stream",
     "text": [
      "<class 'pandas.core.frame.DataFrame'>\n",
      "Int64Index: 100000 entries, 2815734 to 3119335\n",
      "Data columns (total 29 columns):\n",
      "Year                 100000 non-null int64\n",
      "Month                100000 non-null int64\n",
      "DayofMonth           100000 non-null int64\n",
      "DayOfWeek            100000 non-null int64\n",
      "DepTime              98141 non-null float64\n",
      "CRSDepTime           100000 non-null int64\n",
      "ArrTime              97921 non-null float64\n",
      "CRSArrTime           100000 non-null int64\n",
      "UniqueCarrier        100000 non-null object\n",
      "FlightNum            100000 non-null int64\n",
      "TailNum              98868 non-null object\n",
      "ActualElapsedTime    97874 non-null float64\n",
      "CRSElapsedTime       99992 non-null float64\n",
      "AirTime              97874 non-null float64\n",
      "ArrDelay             97874 non-null float64\n",
      "DepDelay             98141 non-null float64\n",
      "Origin               100000 non-null object\n",
      "Dest                 100000 non-null object\n",
      "Distance             100000 non-null int64\n",
      "TaxiIn               97921 non-null float64\n",
      "TaxiOut              98131 non-null float64\n",
      "Cancelled            100000 non-null int64\n",
      "CancellationCode     1878 non-null object\n",
      "Diverted             100000 non-null int64\n",
      "CarrierDelay         21836 non-null float64\n",
      "WeatherDelay         21836 non-null float64\n",
      "NASDelay             21836 non-null float64\n",
      "SecurityDelay        21836 non-null float64\n",
      "LateAircraftDelay    21836 non-null float64\n",
      "dtypes: float64(14), int64(10), object(5)\n",
      "memory usage: 22.9+ MB\n"
     ]
    }
   ],
   "source": [
    "airline_raw.info()"
   ]
  },
  {
   "cell_type": "code",
   "execution_count": 25,
   "metadata": {},
   "outputs": [
    {
     "data": {
      "text/plain": [
       "Index(['Year', 'Month', 'DayofMonth', 'DayOfWeek', 'DepTime', 'CRSDepTime',\n",
       "       'ArrTime', 'CRSArrTime', 'UniqueCarrier', 'FlightNum', 'TailNum',\n",
       "       'ActualElapsedTime', 'CRSElapsedTime', 'AirTime', 'ArrDelay',\n",
       "       'DepDelay', 'Origin', 'Dest', 'Distance', 'TaxiIn', 'TaxiOut',\n",
       "       'Cancelled', 'CancellationCode', 'Diverted', 'CarrierDelay',\n",
       "       'WeatherDelay', 'NASDelay', 'SecurityDelay', 'LateAircraftDelay'],\n",
       "      dtype='object')"
      ]
     },
     "execution_count": 25,
     "metadata": {},
     "output_type": "execute_result"
    }
   ],
   "source": [
    "airline_raw.columns"
   ]
  },
  {
   "cell_type": "code",
   "execution_count": 26,
   "metadata": {},
   "outputs": [
    {
     "name": "stdout",
     "output_type": "stream",
     "text": [
      "                         column_name  percent_missing\n",
      "Year                            Year            0.000\n",
      "Month                          Month            0.000\n",
      "DayofMonth                DayofMonth            0.000\n",
      "DayOfWeek                  DayOfWeek            0.000\n",
      "DepTime                      DepTime            1.859\n",
      "CRSDepTime                CRSDepTime            0.000\n",
      "ArrTime                      ArrTime            2.079\n",
      "CRSArrTime                CRSArrTime            0.000\n",
      "UniqueCarrier          UniqueCarrier            0.000\n",
      "FlightNum                  FlightNum            0.000\n",
      "TailNum                      TailNum            1.132\n",
      "ActualElapsedTime  ActualElapsedTime            2.126\n",
      "CRSElapsedTime        CRSElapsedTime            0.008\n",
      "AirTime                      AirTime            2.126\n",
      "ArrDelay                    ArrDelay            2.126\n",
      "DepDelay                    DepDelay            1.859\n",
      "Origin                        Origin            0.000\n",
      "Dest                            Dest            0.000\n",
      "Distance                    Distance            0.000\n",
      "TaxiIn                        TaxiIn            2.079\n",
      "TaxiOut                      TaxiOut            1.869\n",
      "Cancelled                  Cancelled            0.000\n",
      "CancellationCode    CancellationCode           98.122\n",
      "Diverted                    Diverted            0.000\n",
      "CarrierDelay            CarrierDelay           78.164\n",
      "WeatherDelay            WeatherDelay           78.164\n",
      "NASDelay                    NASDelay           78.164\n",
      "SecurityDelay          SecurityDelay           78.164\n",
      "LateAircraftDelay  LateAircraftDelay           78.164\n"
     ]
    }
   ],
   "source": [
    "missing = airline_raw.isnull().mean()*100\n",
    "missing_values = pd.DataFrame({'column_name': airline_raw.columns,\n",
    "                                 'percent_missing': missing})\n",
    "print(missing_values)"
   ]
  },
  {
   "cell_type": "code",
   "execution_count": 27,
   "metadata": {},
   "outputs": [
    {
     "data": {
      "text/plain": [
       "<matplotlib.axes._subplots.AxesSubplot at 0x17a7bb81688>"
      ]
     },
     "execution_count": 27,
     "metadata": {},
     "output_type": "execute_result"
    },
    {
     "data": {
      "image/png": "[encoded data removed]",
      "text/plain": [
       "<Figure size 1080x576 with 1 Axes>"
      ]
     },
     "metadata": {
      "needs_background": "light"
     },
     "output_type": "display_data"
    }
   ],
   "source": [
    "plt.figure(figsize=(15,8))\n",
    "sns.barplot(x='column_name',y='percent_missing',data=missing_values)"
   ]
  },
  {
   "cell_type": "code",
   "execution_count": 52,
   "metadata": {},
   "outputs": [],
   "source": [
    "#data[data.DepTime.isnull()]\n",
    "\n",
    "# get cancellation data in separate df\n",
    "cancel = airline_raw[airline_raw.Cancelled==1].copy()\n",
    "# cancel\n",
    "# remove cancellation data from the full data\n",
    "\n",
    "airline = airline_raw[airline_raw.Cancelled==0].copy()\n",
    "airline.drop(['Cancelled','CancellationCode'], axis=1,inplace=True)"
   ]
  },
  {
   "cell_type": "code",
   "execution_count": 53,
   "metadata": {},
   "outputs": [
    {
     "name": "stdout",
     "output_type": "stream",
     "text": [
      "<class 'pandas.core.frame.DataFrame'>\n",
      "Int64Index: 98122 entries, 2815734 to 3119335\n",
      "Data columns (total 27 columns):\n",
      "Year                 98122 non-null int64\n",
      "Month                98122 non-null int64\n",
      "DayofMonth           98122 non-null int64\n",
      "DayOfWeek            98122 non-null int64\n",
      "DepTime              98122 non-null float64\n",
      "CRSDepTime           98122 non-null int64\n",
      "ArrTime              97921 non-null float64\n",
      "CRSArrTime           98122 non-null int64\n",
      "UniqueCarrier        98122 non-null object\n",
      "FlightNum            98122 non-null int64\n",
      "TailNum              98122 non-null object\n",
      "ActualElapsedTime    97874 non-null float64\n",
      "CRSElapsedTime       98118 non-null float64\n",
      "AirTime              97874 non-null float64\n",
      "ArrDelay             97874 non-null float64\n",
      "DepDelay             98122 non-null float64\n",
      "Origin               98122 non-null object\n",
      "Dest                 98122 non-null object\n",
      "Distance             98122 non-null int64\n",
      "TaxiIn               97921 non-null float64\n",
      "TaxiOut              98122 non-null float64\n",
      "Diverted             98122 non-null int64\n",
      "CarrierDelay         21836 non-null float64\n",
      "WeatherDelay         21836 non-null float64\n",
      "NASDelay             21836 non-null float64\n",
      "SecurityDelay        21836 non-null float64\n",
      "LateAircraftDelay    21836 non-null float64\n",
      "dtypes: float64(14), int64(9), object(4)\n",
      "memory usage: 21.0+ MB\n"
     ]
    }
   ],
   "source": [
    "airline.info()"
   ]
  },
  {
   "cell_type": "code",
   "execution_count": 54,
   "metadata": {},
   "outputs": [],
   "source": [
    "# get date for flight\n",
    "\n",
    "airline['Date'] = pd.to_datetime(airline[['DayofMonth','Month','Year']].astype(str).apply(' '.join, 1), format='%d %m %Y')"
   ]
  },
  {
   "cell_type": "code",
   "execution_count": 55,
   "metadata": {},
   "outputs": [
    {
     "data": {
      "text/html": [
       "<div>\n",
       "<style scoped>\n",
       "    .dataframe tbody tr th:only-of-type {\n",
       "        vertical-align: middle;\n",
       "    }\n",
       "\n",
       "    .dataframe tbody tr th {\n",
       "        vertical-align: top;\n",
       "    }\n",
       "\n",
       "    .dataframe thead th {\n",
       "        text-align: right;\n",
       "    }\n",
       "</style>\n",
       "<table border=\"1\" class=\"dataframe\">\n",
       "  <thead>\n",
       "    <tr style=\"text-align: right;\">\n",
       "      <th></th>\n",
       "      <th>DayOfWeek</th>\n",
       "      <th>DepTime</th>\n",
       "      <th>CRSDepTime</th>\n",
       "      <th>ArrTime</th>\n",
       "      <th>CRSArrTime</th>\n",
       "      <th>UniqueCarrier</th>\n",
       "      <th>FlightNum</th>\n",
       "      <th>TailNum</th>\n",
       "      <th>ActualElapsedTime</th>\n",
       "      <th>CRSElapsedTime</th>\n",
       "      <th>...</th>\n",
       "      <th>Distance</th>\n",
       "      <th>TaxiIn</th>\n",
       "      <th>TaxiOut</th>\n",
       "      <th>Diverted</th>\n",
       "      <th>CarrierDelay</th>\n",
       "      <th>WeatherDelay</th>\n",
       "      <th>NASDelay</th>\n",
       "      <th>SecurityDelay</th>\n",
       "      <th>LateAircraftDelay</th>\n",
       "      <th>Date</th>\n",
       "    </tr>\n",
       "  </thead>\n",
       "  <tbody>\n",
       "    <tr>\n",
       "      <td>2815734</td>\n",
       "      <td>6</td>\n",
       "      <td>1339.0</td>\n",
       "      <td>1340</td>\n",
       "      <td>1626.0</td>\n",
       "      <td>1635</td>\n",
       "      <td>NW</td>\n",
       "      <td>284</td>\n",
       "      <td>N777NC</td>\n",
       "      <td>107.0</td>\n",
       "      <td>115.0</td>\n",
       "      <td>...</td>\n",
       "      <td>610</td>\n",
       "      <td>6.0</td>\n",
       "      <td>13.0</td>\n",
       "      <td>0</td>\n",
       "      <td>NaN</td>\n",
       "      <td>NaN</td>\n",
       "      <td>NaN</td>\n",
       "      <td>NaN</td>\n",
       "      <td>NaN</td>\n",
       "      <td>2008-05-24</td>\n",
       "    </tr>\n",
       "    <tr>\n",
       "      <td>3469890</td>\n",
       "      <td>7</td>\n",
       "      <td>2131.0</td>\n",
       "      <td>2138</td>\n",
       "      <td>2229.0</td>\n",
       "      <td>2240</td>\n",
       "      <td>9E</td>\n",
       "      <td>5867</td>\n",
       "      <td>89869E</td>\n",
       "      <td>58.0</td>\n",
       "      <td>62.0</td>\n",
       "      <td>...</td>\n",
       "      <td>163</td>\n",
       "      <td>5.0</td>\n",
       "      <td>24.0</td>\n",
       "      <td>0</td>\n",
       "      <td>NaN</td>\n",
       "      <td>NaN</td>\n",
       "      <td>NaN</td>\n",
       "      <td>NaN</td>\n",
       "      <td>NaN</td>\n",
       "      <td>2008-06-01</td>\n",
       "    </tr>\n",
       "    <tr>\n",
       "      <td>1833281</td>\n",
       "      <td>3</td>\n",
       "      <td>1738.0</td>\n",
       "      <td>1730</td>\n",
       "      <td>1838.0</td>\n",
       "      <td>1835</td>\n",
       "      <td>WN</td>\n",
       "      <td>3429</td>\n",
       "      <td>N908WN</td>\n",
       "      <td>60.0</td>\n",
       "      <td>65.0</td>\n",
       "      <td>...</td>\n",
       "      <td>296</td>\n",
       "      <td>2.0</td>\n",
       "      <td>9.0</td>\n",
       "      <td>0</td>\n",
       "      <td>NaN</td>\n",
       "      <td>NaN</td>\n",
       "      <td>NaN</td>\n",
       "      <td>NaN</td>\n",
       "      <td>NaN</td>\n",
       "      <td>2008-04-16</td>\n",
       "    </tr>\n",
       "    <tr>\n",
       "      <td>98132</td>\n",
       "      <td>1</td>\n",
       "      <td>1916.0</td>\n",
       "      <td>1920</td>\n",
       "      <td>2032.0</td>\n",
       "      <td>2031</td>\n",
       "      <td>XE</td>\n",
       "      <td>444</td>\n",
       "      <td>N11544</td>\n",
       "      <td>76.0</td>\n",
       "      <td>71.0</td>\n",
       "      <td>...</td>\n",
       "      <td>376</td>\n",
       "      <td>5.0</td>\n",
       "      <td>7.0</td>\n",
       "      <td>0</td>\n",
       "      <td>NaN</td>\n",
       "      <td>NaN</td>\n",
       "      <td>NaN</td>\n",
       "      <td>NaN</td>\n",
       "      <td>NaN</td>\n",
       "      <td>2008-01-28</td>\n",
       "    </tr>\n",
       "    <tr>\n",
       "      <td>4957204</td>\n",
       "      <td>5</td>\n",
       "      <td>634.0</td>\n",
       "      <td>638</td>\n",
       "      <td>1021.0</td>\n",
       "      <td>1000</td>\n",
       "      <td>XE</td>\n",
       "      <td>2585</td>\n",
       "      <td>N12922</td>\n",
       "      <td>167.0</td>\n",
       "      <td>142.0</td>\n",
       "      <td>...</td>\n",
       "      <td>872</td>\n",
       "      <td>6.0</td>\n",
       "      <td>30.0</td>\n",
       "      <td>0</td>\n",
       "      <td>0.0</td>\n",
       "      <td>0.0</td>\n",
       "      <td>21.0</td>\n",
       "      <td>0.0</td>\n",
       "      <td>0.0</td>\n",
       "      <td>2008-09-12</td>\n",
       "    </tr>\n",
       "  </tbody>\n",
       "</table>\n",
       "<p>5 rows × 25 columns</p>\n",
       "</div>"
      ],
      "text/plain": [
       "         DayOfWeek  DepTime  CRSDepTime  ArrTime  CRSArrTime UniqueCarrier  \\\n",
       "2815734          6   1339.0        1340   1626.0        1635            NW   \n",
       "3469890          7   2131.0        2138   2229.0        2240            9E   \n",
       "1833281          3   1738.0        1730   1838.0        1835            WN   \n",
       "98132            1   1916.0        1920   2032.0        2031            XE   \n",
       "4957204          5    634.0         638   1021.0        1000            XE   \n",
       "\n",
       "         FlightNum TailNum  ActualElapsedTime  CRSElapsedTime  ...  Distance  \\\n",
       "2815734        284  N777NC              107.0           115.0  ...       610   \n",
       "3469890       5867  89869E               58.0            62.0  ...       163   \n",
       "1833281       3429  N908WN               60.0            65.0  ...       296   \n",
       "98132          444  N11544               76.0            71.0  ...       376   \n",
       "4957204       2585  N12922              167.0           142.0  ...       872   \n",
       "\n",
       "         TaxiIn  TaxiOut Diverted CarrierDelay  WeatherDelay  NASDelay  \\\n",
       "2815734     6.0     13.0        0          NaN           NaN       NaN   \n",
       "3469890     5.0     24.0        0          NaN           NaN       NaN   \n",
       "1833281     2.0      9.0        0          NaN           NaN       NaN   \n",
       "98132       5.0      7.0        0          NaN           NaN       NaN   \n",
       "4957204     6.0     30.0        0          0.0           0.0      21.0   \n",
       "\n",
       "         SecurityDelay  LateAircraftDelay       Date  \n",
       "2815734            NaN                NaN 2008-05-24  \n",
       "3469890            NaN                NaN 2008-06-01  \n",
       "1833281            NaN                NaN 2008-04-16  \n",
       "98132              NaN                NaN 2008-01-28  \n",
       "4957204            0.0                0.0 2008-09-12  \n",
       "\n",
       "[5 rows x 25 columns]"
      ]
     },
     "execution_count": 55,
     "metadata": {},
     "output_type": "execute_result"
    }
   ],
   "source": [
    "airline.drop(['DayofMonth','Month','Year'], axis=1, inplace=True)\n",
    "\n",
    "airline.head()"
   ]
  },
  {
   "cell_type": "code",
   "execution_count": 56,
   "metadata": {},
   "outputs": [
    {
     "data": {
      "text/plain": [
       "-5.0      3132\n",
       "-8.0      3013\n",
       "-6.0      3003\n",
       "-4.0      2993\n",
       "-7.0      2973\n",
       "          ... \n",
       " 558.0       1\n",
       " 408.0       1\n",
       " 931.0       1\n",
       " 449.0       1\n",
       "-58.0        1\n",
       "Name: ArrDelay, Length: 462, dtype: int64"
      ]
     },
     "execution_count": 56,
     "metadata": {},
     "output_type": "execute_result"
    }
   ],
   "source": [
    "airline.ArrDelay.value_counts(dropna=False)"
   ]
  },
  {
   "cell_type": "code",
   "execution_count": 57,
   "metadata": {},
   "outputs": [
    {
     "data": {
      "text/plain": [
       "count    97874.000000\n",
       "mean         8.194679\n",
       "std         38.084619\n",
       "min        -63.000000\n",
       "25%        -10.000000\n",
       "50%         -2.000000\n",
       "75%         12.000000\n",
       "max       1193.000000\n",
       "Name: ArrDelay, dtype: float64"
      ]
     },
     "execution_count": 57,
     "metadata": {},
     "output_type": "execute_result"
    }
   ],
   "source": [
    "airline.ArrDelay.describe()"
   ]
  },
  {
   "cell_type": "code",
   "execution_count": 61,
   "metadata": {},
   "outputs": [
    {
     "data": {
      "text/plain": [
       "DayOfWeek                0\n",
       "DepTime                  0\n",
       "CRSDepTime               0\n",
       "ArrTime                  0\n",
       "CRSArrTime               0\n",
       "UniqueCarrier            0\n",
       "FlightNum                0\n",
       "TailNum                  0\n",
       "ActualElapsedTime        0\n",
       "CRSElapsedTime           0\n",
       "AirTime                  0\n",
       "ArrDelay                 0\n",
       "DepDelay                 0\n",
       "Origin                   0\n",
       "Dest                     0\n",
       "Distance                 0\n",
       "TaxiIn                   0\n",
       "TaxiOut                  0\n",
       "CarrierDelay         76038\n",
       "WeatherDelay         76038\n",
       "NASDelay             76038\n",
       "SecurityDelay        76038\n",
       "LateAircraftDelay    76038\n",
       "Date                     0\n",
       "dtype: int64"
      ]
     },
     "execution_count": 61,
     "metadata": {},
     "output_type": "execute_result"
    }
   ],
   "source": [
    "# check for NA in arrival time\n",
    "airline.isnull().sum()"
   ]
  },
  {
   "cell_type": "code",
   "execution_count": 59,
   "metadata": {},
   "outputs": [
    {
     "data": {
      "text/plain": [
       "DayOfWeek                0\n",
       "DepTime                  0\n",
       "CRSDepTime               0\n",
       "ArrTime                  0\n",
       "CRSArrTime               0\n",
       "UniqueCarrier            0\n",
       "FlightNum                0\n",
       "TailNum                  0\n",
       "ActualElapsedTime        0\n",
       "CRSElapsedTime           0\n",
       "AirTime                  0\n",
       "ArrDelay                 0\n",
       "DepDelay                 0\n",
       "Origin                   0\n",
       "Dest                     0\n",
       "Distance                 0\n",
       "TaxiIn                   0\n",
       "TaxiOut                  0\n",
       "Diverted                 0\n",
       "CarrierDelay         76038\n",
       "WeatherDelay         76038\n",
       "NASDelay             76038\n",
       "SecurityDelay        76038\n",
       "LateAircraftDelay    76038\n",
       "Date                     0\n",
       "dtype: int64"
      ]
     },
     "execution_count": 59,
     "metadata": {},
     "output_type": "execute_result"
    }
   ],
   "source": [
    "airline[airline.ArrDelay.isnull()][['DepTime', 'CRSDepTime',\n",
    "       'ArrTime', 'CRSArrTime', 'UniqueCarrier', 'FlightNum', 'TailNum',\n",
    "       'ActualElapsedTime', 'CRSElapsedTime', 'AirTime', 'ArrDelay',\n",
    "       'DepDelay', 'Origin', 'Dest', 'Distance', 'TaxiIn', 'TaxiOut','Diverted']]\n",
    "\n",
    "#check if all the NAs are because of diverted flights\n",
    "airline[airline.Diverted==0].isnull().sum()\n",
    "\n"
   ]
  },
  {
   "cell_type": "code",
   "execution_count": 60,
   "metadata": {},
   "outputs": [],
   "source": [
    "# No arrival time listed for diverted flights, store diverted flights data in deparate df\n",
    "divert = airline[airline.Diverted==1].copy()\n",
    "airline = airline[airline.Diverted==0]\n",
    "airline.drop(['Diverted'], axis=1,inplace=True)"
   ]
  },
  {
   "cell_type": "code",
   "execution_count": 71,
   "metadata": {},
   "outputs": [
    {
     "data": {
      "text/plain": [
       "6399973     -63.0\n",
       "2098639     -60.0\n",
       "1306692     -58.0\n",
       "750553      -57.0\n",
       "5601514     -55.0\n",
       "            ...  \n",
       "1044242     872.0\n",
       "2883991     931.0\n",
       "4102280     961.0\n",
       "2787772    1129.0\n",
       "1094531    1193.0\n",
       "Name: ArrDelay, Length: 97874, dtype: float64"
      ]
     },
     "execution_count": 71,
     "metadata": {},
     "output_type": "execute_result"
    },
    {
     "data": {
      "image/png": "[encoded data removed]",
      "text/plain": [
       "<Figure size 432x288 with 1 Axes>"
      ]
     },
     "metadata": {
      "needs_background": "light"
     },
     "output_type": "display_data"
    }
   ],
   "source": [
    "sns.distplot(airline.ArrDelay)\n",
    "airline.ArrDelay.describe()\n",
    "\n",
    "## Check max values for airline delay\n",
    "airline.ArrDelay.sort_values(ascending=False)\n",
    "airline[airline.ArrDelay>800] # the delay looks legit and we will keep these extreme values\n",
    "\n",
    "## Check min values for airline delay\n",
    "airline.ArrDelay.sort_values(ascending=True)\n"
   ]
  },
  {
   "cell_type": "code",
   "execution_count": 63,
   "metadata": {},
   "outputs": [
    {
     "data": {
      "text/plain": [
       "<matplotlib.axes._subplots.AxesSubplot at 0x17a89c5bf08>"
      ]
     },
     "execution_count": 63,
     "metadata": {},
     "output_type": "execute_result"
    },
    {
     "data": {
      "image/png": "[encoded data removed]",
      "text/plain": [
       "<Figure size 432x288 with 1 Axes>"
      ]
     },
     "metadata": {
      "needs_background": "light"
     },
     "output_type": "display_data"
    }
   ],
   "source": [
    "sns.boxplot(airline.ArrDelay)"
   ]
  },
  {
   "cell_type": "code",
   "execution_count": 74,
   "metadata": {},
   "outputs": [],
   "source": [
    "# make a flag for delayed flight. If the flight is more than 15 minutes late, then we will consider it as late.\n",
    "\n",
    "airline['Delayed'] = (airline.ArrDelay > 15).astype('int')"
   ]
  },
  {
   "cell_type": "code",
   "execution_count": 78,
   "metadata": {},
   "outputs": [
    {
     "data": {
      "text/plain": [
       "0    76836\n",
       "1    21038\n",
       "Name: Delayed, dtype: int64"
      ]
     },
     "execution_count": 78,
     "metadata": {},
     "output_type": "execute_result"
    }
   ],
   "source": [
    "airline.Delayed.value_counts()"
   ]
  },
  {
   "cell_type": "code",
   "execution_count": 116,
   "metadata": {},
   "outputs": [
    {
     "data": {
      "text/plain": [
       "ATL    5868\n",
       "ORD    4742\n",
       "DFW    3895\n",
       "DEN    3497\n",
       "LAX    2993\n",
       "       ... \n",
       "ACY       1\n",
       "ACK       1\n",
       "CMX       1\n",
       "ITH       1\n",
       "TEX       1\n",
       "Name: Origin, Length: 298, dtype: int64"
      ]
     },
     "execution_count": 116,
     "metadata": {},
     "output_type": "execute_result"
    }
   ],
   "source": [
    "#sns.pairplot(airline)\n",
    "#[['UniqueCarrier', 'FlightNum', 'TailNum', 'Origin', 'Dest']]\n",
    "airline.Origin.value_counts()"
   ]
  },
  {
   "cell_type": "code",
   "execution_count": 107,
   "metadata": {},
   "outputs": [],
   "source": [
    "\n",
    "var = ['UniqueCarrier', 'FlightNum', 'TailNum', 'Origin', 'Dest']\n",
    "for v in var:\n",
    "    airline[v] = airline[v].astype('category')\n"
   ]
  },
  {
   "cell_type": "code",
   "execution_count": 158,
   "metadata": {},
   "outputs": [
    {
     "data": {
      "text/html": [
       "<div>\n",
       "<style scoped>\n",
       "    .dataframe tbody tr th:only-of-type {\n",
       "        vertical-align: middle;\n",
       "    }\n",
       "\n",
       "    .dataframe tbody tr th {\n",
       "        vertical-align: top;\n",
       "    }\n",
       "\n",
       "    .dataframe thead th {\n",
       "        text-align: right;\n",
       "    }\n",
       "</style>\n",
       "<table border=\"1\" class=\"dataframe\">\n",
       "  <thead>\n",
       "    <tr style=\"text-align: right;\">\n",
       "      <th></th>\n",
       "      <th>Origin</th>\n",
       "      <th>sum</th>\n",
       "      <th>count</th>\n",
       "    </tr>\n",
       "  </thead>\n",
       "  <tbody>\n",
       "    <tr>\n",
       "      <td>0</td>\n",
       "      <td>ATL</td>\n",
       "      <td>1476</td>\n",
       "      <td>5868</td>\n",
       "    </tr>\n",
       "    <tr>\n",
       "      <td>1</td>\n",
       "      <td>ORD</td>\n",
       "      <td>2936</td>\n",
       "      <td>10610</td>\n",
       "    </tr>\n",
       "    <tr>\n",
       "      <td>2</td>\n",
       "      <td>DFW</td>\n",
       "      <td>3874</td>\n",
       "      <td>14505</td>\n",
       "    </tr>\n",
       "    <tr>\n",
       "      <td>3</td>\n",
       "      <td>DEN</td>\n",
       "      <td>4658</td>\n",
       "      <td>18002</td>\n",
       "    </tr>\n",
       "    <tr>\n",
       "      <td>4</td>\n",
       "      <td>EWR</td>\n",
       "      <td>5277</td>\n",
       "      <td>19896</td>\n",
       "    </tr>\n",
       "    <tr>\n",
       "      <td>...</td>\n",
       "      <td>...</td>\n",
       "      <td>...</td>\n",
       "      <td>...</td>\n",
       "    </tr>\n",
       "    <tr>\n",
       "      <td>293</td>\n",
       "      <td>CMX</td>\n",
       "      <td>21038</td>\n",
       "      <td>97851</td>\n",
       "    </tr>\n",
       "    <tr>\n",
       "      <td>294</td>\n",
       "      <td>MCN</td>\n",
       "      <td>21038</td>\n",
       "      <td>97856</td>\n",
       "    </tr>\n",
       "    <tr>\n",
       "      <td>295</td>\n",
       "      <td>SCC</td>\n",
       "      <td>21038</td>\n",
       "      <td>97866</td>\n",
       "    </tr>\n",
       "    <tr>\n",
       "      <td>296</td>\n",
       "      <td>ALO</td>\n",
       "      <td>21038</td>\n",
       "      <td>97872</td>\n",
       "    </tr>\n",
       "    <tr>\n",
       "      <td>297</td>\n",
       "      <td>ADK</td>\n",
       "      <td>21038</td>\n",
       "      <td>97874</td>\n",
       "    </tr>\n",
       "  </tbody>\n",
       "</table>\n",
       "<p>298 rows × 3 columns</p>\n",
       "</div>"
      ],
      "text/plain": [
       "    Origin    sum  count\n",
       "0      ATL   1476   5868\n",
       "1      ORD   2936  10610\n",
       "2      DFW   3874  14505\n",
       "3      DEN   4658  18002\n",
       "4      EWR   5277  19896\n",
       "..     ...    ...    ...\n",
       "293    CMX  21038  97851\n",
       "294    MCN  21038  97856\n",
       "295    SCC  21038  97866\n",
       "296    ALO  21038  97872\n",
       "297    ADK  21038  97874\n",
       "\n",
       "[298 rows x 3 columns]"
      ]
     },
     "execution_count": 158,
     "metadata": {},
     "output_type": "execute_result"
    }
   ],
   "source": [
    "# Check delayed flights by origin \n",
    "\n",
    "by_orig = airline.groupby('Origin').agg(['sum', 'count'])['Delayed'].sort_values(by='sum',ascending=False).cumsum()\n",
    "#by_orig\n",
    "by_orig = by_orig.reset_index()\n",
    "by_orig"
   ]
  },
  {
   "cell_type": "code",
   "execution_count": 165,
   "metadata": {},
   "outputs": [
    {
     "data": {
      "text/plain": [
       "[<matplotlib.lines.Line2D at 0x17ac4adf948>]"
      ]
     },
     "execution_count": 165,
     "metadata": {},
     "output_type": "execute_result"
    },
    {
     "data": {
      "image/png": "[encoded data removed]",
      "text/plain": [
       "<Figure size 1080x576 with 1 Axes>"
      ]
     },
     "metadata": {
      "needs_background": "light"
     },
     "output_type": "display_data"
    }
   ],
   "source": [
    "plt.figure(figsize=(15,8))\n",
    "plt.plot(by_orig['sum']*100/by_orig['sum'].max(),'bo')"
   ]
  },
  {
   "cell_type": "code",
   "execution_count": null,
   "metadata": {},
   "outputs": [],
   "source": []
  }
 ],
 "metadata": {
  "kernelspec": {
   "display_name": "Python 3",
   "language": "python",
   "name": "python3"
  },
  "language_info": {
   "codemirror_mode": {
    "name": "ipython",
    "version": 3
   },
   "file_extension": ".py",
   "mimetype": "text/x-python",
   "name": "python",
   "nbconvert_exporter": "python",
   "pygments_lexer": "ipython3",
   "version": "3.7.4"
  }
 },
 "nbformat": 4,
 "nbformat_minor": 2
}
